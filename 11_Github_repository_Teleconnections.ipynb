{
 "metadata": {
  "name": "",
  "signature": "sha256:2471a6b1d63a545d47b2a839cbffc7c3e5977f83fac54d4481f4b47920dca3a5"
 },
 "nbformat": 3,
 "nbformat_minor": 0,
 "worksheets": [
  {
   "cells": [
    {
     "cell_type": "heading",
     "level": 2,
     "metadata": {},
     "source": [
      "Structure of Github repository \"Teleconnections\""
     ]
    },
    {
     "cell_type": "markdown",
     "metadata": {},
     "source": [
      "Scripts and Code of the Earth Observation Big Data Analytics project is hosted on [GitHub](https://github.com/JuliaWagemann/Teleconnections). Scripts available there are ready-to-use and so far seperated between general *data formatting* scripts and specific scripts for *advanced statistical methods*."
     ]
    },
    {
     "cell_type": "heading",
     "level": 4,
     "metadata": {},
     "source": [
      "Scripts for *[data formatting](https://github.com/JuliaWagemann/Teleconnections/tree/master/1_Data_formatting)*"
     ]
    },
    {
     "cell_type": "markdown",
     "metadata": {},
     "source": [
      "Several scripts and functions for general data formatting and manipulation were developed:</br>\n",
      "\n",
      "* [anomalies_functions.R](https://github.com/JuliaWagemann/Teleconnections/blob/master/1_Data_formatting/anomalies_functions_v1.1.R) \n",
      "<br>This is a collection of several helper functions in order to handle predominantly netCDF files.</br>\n",
      "<br><table>\n",
      "<tr>\n",
      "<th>Function</th>\n",
      "<th>Description</th>\n",
      "</tr>\n",
      "<tr>\n",
      "<td>getLat</td>\n",
      "<td>Retrieves latitude values from a netCDF files</td>\n",
      "</tr>\n",
      "<tr>\n",
      "<td>getLon</td>\n",
      "<td>Retrieves longitude values from a netCDF files</td>\n",
      "</tr>\n",
      "<tr>\n",
      "<td>getMonthStack</td>\n",
      "<td>This function reorganizes netCDF values that contain for every year 12 different layers to a stack that only holds the layers of several years for one specified month</td>\n",
      "</tr>\n",
      "<tr>\n",
      "<td>getSeasonalStack</td>\n",
      "<td>This function creates a stack of seasonal mean values of raster fields. It can be distuingished between winter (DJF), spring (MAM), summer (JJA) and autumn (SON).</td>\n",
      "</tr>\n",
      "<tr>\n",
      "<td>calculateAnomaly</td>\n",
      "<td>This function calculates anomalies based on an input stack and a vector indicating the years of the climatology.</td>\n",
      "</tr>\n",
      "<tr>\n",
      "<td>writeStackToNCDF</td>\n",
      "<td>This function writes a given raster stack to a netCDF file.</td>\n",
      "</tr>\n",
      "<tr>\n",
      "<td>anomalizeToNCDF</td>\n",
      "<td>This function combines several functions to calculate anomalies of raster fields, given by an input file netCDF filelist and writes the calculated anomalies to a new netCDF file.</td>\n",
      "</tr>\n",
      "<tr>\n",
      "<td>aggregate1</td>\n",
      "<td>Aggregates raster data sets (given by a netCDF file list) to a coarser resolution.</td>\n",
      "</tr>\n",
      "<tr>\n",
      "<td>createBigStack</td>\n",
      "<td>Function puts all netCDF files of a given file list into one rasterStack and applies, if neede, a conversion factor to the stack</td>\n",
      "</tr>\n",
      "<tr>\n",
      "<td>writeEOTOutput</td>\n",
      "<td>Function writes the results of an EOT-analysis (regression-based or not) to a netCDF output file.For each analysed lag time step two netCDF files containing predictor and response EOT modes, one .txt file with EOT time series of each mode and one .txt file containing EV (explained variance) and lat/lon coordinates of the identified base point will be written as output.</td>\n",
      "</tr>\n",
      "</table>\n",
      "<br>\n",
      "\n",
      "* [aggregate_1deg.R](https://github.com/JuliaWagemann/Teleconnections/blob/master/1_Data_formatting/aggregate_1deg.R)\n",
      "<br> Script that calls the aggregate1 function to aggregate raster data fields to a coarser resoultion.<br/>\n",
      "\n",
      "* [Calculate_Anomalies_v1.2.R](https://github.com/JuliaWagemann/Teleconnections/blob/master/1_Data_formatting/Calculate_Anomalies_v1.2.R)\n",
      "<br> Script that calls the anomalizeToNCDF function to calculate anomalies and to write the result to a netCDF file.<br/>\n",
      "\n",
      "* [convertMatToNCDF.R](https://github.com/JuliaWagemann/Teleconnections/blob/master/1_Data_formatting/convertMatToNCDF.R)\n",
      "<br> Script converts .mat files (from Matlab) to netCDF format. <br/>\n",
      "\n",
      "* [writeRasterToGeoTIFF.R](https://github.com/JuliaWagemann/Teleconnections/blob/master/1_Data_formatting/writeRasterToGeoTIFF.R)\n",
      "<br> Script takes raster fields from a netCDF and converts each single layer to a geoTiff. **TODO: there are some bugfixes!!!**<br/>\n"
     ]
    },
    {
     "cell_type": "heading",
     "level": 4,
     "metadata": {},
     "source": [
      "Scripts under *[2_Methods/1_SOM](https://github.com/JuliaWagemann/Teleconnections/tree/master/2_Methods/1_SOM)* - Self-Organizing Maps"
     ]
    },
    {
     "cell_type": "markdown",
     "metadata": {},
     "source": [
      "This folder contains all necessary scripts to do a Self-Organzing Maps analysis.\n",
      "\n",
      "* [SOM_functions_1.1.R](https://github.com/JuliaWagemann/Teleconnections/tree/master/2_Methods/1_SOM)\n",
      "<br>This is a collection of several helper functions for formatting and manipulating netCDF files in order to do an SOM analysis.<br/>\n",
      "<table>\n",
      "<tr>\n",
      "<th>Function</th>\n",
      "<th>Description</th>\n",
      "</tr>\n",
      "<tr>\n",
      "<td>getLat</td>\n",
      "<td>Retrieves latitude values from a netCDF files</td>\n",
      "</tr>\n",
      "<tr>\n",
      "<td>getLon</td>\n",
      "<td>Retrieves longitude values from a netCDF files</td>\n",
      "</tr>\n",
      "<tr>\n",
      "<td>getLayers</td>\n",
      "<td>Retrieves the amount of layers stored in a netCDF file.</td>\n",
      "</tr>\n",
      "<tr>\n",
      "<td>getSomDataMatrix</td>\n",
      "<td>This function prepares the input raster files of a given file list for the calculation of SOM nodes. Each raster file is reshaped to a 1D-row-vector.</td>\n",
      "</tr>\n",
      "<tr>\n",
      "<td>scaleDataMatrix</td>\n",
      "<td>This function normalizes the data matrix of the anomalies with the help of the standard deviation.</td>\n",
      "</tr>\n",
      "<tr>\n",
      "<td>writeFreqs</td>\n",
      "<td>This function calculates the frequency occurences of each SOM node pattern and writes the results into a .txt file.</td>\n",
      "</tr>\n",
      "<tr>\n",
      "<td>reshapeToStack</td>\n",
      "<td>This function reshapes the 1D-row vectors based on the code variable of the SOM object to better interpretable matrix raster files.</td>\n",
      "</tr>\n",
      "<tr>\n",
      "<td>writeStackToNCDF</td>\n",
      "<td>This function writes a given raster stack to a netCDF file.</td>\n",
      "</tr>\n",
      "<tr>\n",
      "<td>SOMToNCDF</td>\n",
      "<td>This function is the main function to calculate Self-Organizing-Map nodes based on an input fileList. All the results are written to an output ncdf file.</td>\n",
      "</tr>\n",
      "</table>\n",
      "<br>\n",
      "\n",
      "* [SOM_v1.6.R](https://github.com/JuliaWagemann/Teleconnections/blob/master/2_Methods/1_SOM/SOM_v1.6.R)\n",
      "<br>This script gives some ideas and explanations about how to set up the R package *kohonen* properly</br>\n",
      "\n",
      "* [SOM_v2.0.R](https://github.com/JuliaWagemann/Teleconnections/blob/master/2_Methods/1_SOM/SOM_v2.0.R)\n",
      "<br>This script calls the function SOMToNCDF that calculates SOM for a given netCDF raster data file list. The output SOM object is written to a netCDF file.</br>\n",
      "\n",
      "* [plotSpatialSOMMaps.R](https://github.com/JuliaWagemann/Teleconnections/blob/master/2_Methods/1_SOM/plotSpatialSOMMaps.R)\n",
      "<br>This scripts visualizes spatial patterns of calculated Self-Organizing-Maps (SOMs), up to 12 SOMs at once.</br>\n",
      "\n",
      "* [plotSpatialSOMMaps_v1.1.R](https://github.com/JuliaWagemann/Teleconnections/blob/master/2_Methods/1_SOM/plotSpatialSOMMaps_v1.1.R)\n",
      "<br>This script visualizes spatial patterns of calculated Self-Organizing-Maps, based on a list of files.</br>"
     ]
    },
    {
     "cell_type": "heading",
     "level": 4,
     "metadata": {},
     "source": [
      "Scripts under *[2_Methods/2_EOT](https://github.com/JuliaWagemann/Teleconnections/tree/master/2_Methods/2_EOT)* - Empirical-Orthogonal-Teleconnections"
     ]
    },
    {
     "cell_type": "markdown",
     "metadata": {},
     "source": [
      "This folder contains all necessary scripts to do an Empirical-Orthogonal-Teleconnection analysis.\n",
      "\n",
      "* [EOT_v1.4.R](https://github.com/JuliaWagemann/Teleconnections/blob/master/2_Methods/2_EOT/EOT_v1.4.R)\n",
      "<br>This script uses EOT analysis to identify the main spatial drivers between two given spatial data sets. Teleconnections of two given spatial datasets can therefore be calculated. The two variables are opposed to each other up to a lag time of 12 month (1 year)</br>\n",
      "\n",
      "* [EOT_v1.5.R](https://github.com/JuliaWagemann/Teleconnections/blob/master/2_Methods/2_EOT/EOT_v1.5.R)\n",
      "<br>This script uses EOT analysis to identify the main spatial patterns of one given spatial dataset.</br>\n",
      "\n",
      "* [plotSpatialEOTMaps.R](https://github.com/JuliaWagemann/Teleconnections/blob/master/2_Methods/2_EOT/plotSpatialEOTMaps_v1.2.R)\n",
      "<br>This script intends to plot the most important modes of a spatial EOT analysis. **TODO: under construction**</br>\n",
      "\n",
      "* [EOT_extract_EV.R](https://github.com/JuliaWagemann/Teleconnections/blob/master/2_Methods/2_EOT/EOT_extract_EV.R)\n",
      "<br>This script retrieves explained variance values of calculated EOT analyses with various lag times and visulizes them in time. The result shows the change in EV with various lagged times of two different parameter combinations.</br>\n",
      "\n",
      "* [visualize_EOT_TS.R](https://github.com/JuliaWagemann/Teleconnections/blob/master/2_Methods/2_EOT/visualize_EOT_TS.R)\n",
      "<br>This script retrieves time series values of calculated EOT analysis visualizes them in time. The result shows the time series of the identified base point for the specific EOT mode.</br>"
     ]
    }
   ],
   "metadata": {}
  }
 ]
}