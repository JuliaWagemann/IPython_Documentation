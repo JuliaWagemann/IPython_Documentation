{
 "metadata": {
  "name": "",
  "signature": "sha256:a5f4601e8df0210a5b6d41b32aa5971de4b0e26ddc711cace2086872c6525319"
 },
 "nbformat": 3,
 "nbformat_minor": 0,
 "worksheets": [
  {
   "cells": [
    {
     "cell_type": "heading",
     "level": 2,
     "metadata": {},
     "source": [
      "How to connect with several different Web API's"
     ]
    },
    {
     "cell_type": "heading",
     "level": 4,
     "metadata": {},
     "source": [
      "From *\"data-to-user\"* to *\"user-to-data\"*"
     ]
    },
    {
     "cell_type": "markdown",
     "metadata": {},
     "source": [
      "The era of Big Data promotes a significant shift in data acquisition. The shift requires a certain degree of revision of common working attitudes. Rather than downloading data to your local or external hard drive (*data-to-user*), the user connects with different web API's to access data, analyses it and solely the required result is stored (*user-to-data*). Rather than carrying around your data on your external hard driver, you can acces the data everytime and everywhere."
     ]
    },
    {
     "cell_type": "heading",
     "level": 4,
     "metadata": {},
     "source": [
      "Basics about web API's and python libraries *json* and *simplejson*"
     ]
    },
    {
     "cell_type": "markdown",
     "metadata": {},
     "source": [
      "API is short for *\"Application Programming Interface\"*. It is a protocol that enables two software components to communicate with each other via an interface. API responses are often stored in JSON (JavaScript Object Notation), a compact text-based format for computers to exchange data. JSON is able to handle various data formats, such as objects, arrays, values, strings, numbers.<br/>\n",
      "<br/>In Python, the libraries *json* or *simplejson* can be used to load a JSON object from a web API. The main modules that should be imported are:\n",
      "\n",
      "* requests\n",
      "\n",
      "* json\n",
      "\n",
      "* pprint\n",
      "\n",
      "All modules can be installed via *pip install module name*.<br/>"
     ]
    },
    {
     "cell_type": "heading",
     "level": 4,
     "metadata": {},
     "source": [
      "Connect with Worldbank Climate Data Api"
     ]
    },
    {
     "cell_type": "markdown",
     "metadata": {},
     "source": [
      "The Worldbank offers an extensive [web API](http://data.worldbank.org/developers/climate-data-api) for climate data and various indicators. The API offers programmatic access to most of the data used on the [Worldbank's Climate Change Knowledge Portal](http://sdwebx.worldbank.org/climateportal/index.cfm).<br/>\n",
      "Most web API's provide an url link that has to be used for connections. With library *request* a connections with the url is established and with *json* the content (in JSON format) is loaded as a list of Python dictionaries.<br/>"
     ]
    },
    {
     "cell_type": "markdown",
     "metadata": {},
     "source": [
      "```\n",
      "import requests\n",
      "import json\n",
      "import pprint\n",
      "\n",
      "climateApi = requests.get(url)\n",
      "temp = json.loads(climateApi.text)\n",
      "```"
     ]
    },
    {
     "cell_type": "markdown",
     "metadata": {},
     "source": [
      "This [website](http://data.worldbank.org/developers/climate-data-api) explains in detail how the url for a spefic dataset is put together. As it seems so far, only aggregated time series of precipitation and temperature on either country or basin level, can be retrieved.<br/>\n",
      "Data from a list of python dictionaries can be retrieved via iterating through the list and then calling the required item by name:"
     ]
    },
    {
     "cell_type": "markdown",
     "metadata": {},
     "source": [
      "```\n",
      "testList = []\n",
      "for item in test:\n",
      "    testList.append(item[u'monthVals'])\n",
      "```"
     ]
    },
    {
     "cell_type": "heading",
     "level": 4,
     "metadata": {},
     "source": [
      "Access ERA reanalysis data via batch"
     ]
    },
    {
     "cell_type": "markdown",
     "metadata": {},
     "source": [
      "Reanalysis data from ECMWF can be accessed and downloaded from the data server via batch. ECMWF developed a python library that allows server connection and data download.<br/> \n",
      "Install the libary via *pip install https://software.ecmwf.int/wiki/download/attachments/23694554/ecmwf-api-client-python.tgz *.<br/>\n",
      "<br/>\n",
      "For being able to connect with the server, you have to create a [user account](https://apps.ecmwf.int/registration/). Once you registered, you have to login and retrieve an [API key](https://api.ecmwf.int/v1/key/). This API key together with your login email is needed in order to connect to the server:"
     ]
    },
    {
     "cell_type": "markdown",
     "metadata": {},
     "source": [
      "```\n",
      "server = ECMWFDataServer(url=\"https://api.ecmwf.int/v1\",key=\"provide here your API key\",email=\"provide here your login email adress\")\n",
      "server.retrieve({\n",
      "    'stream'    : \"moda\",\n",
      "    'levtype'   : \"sfc\",\n",
      "    'param'     : \"34.128\",\n",
      "    'dataset'   : \"interim\",\n",
      "    'grid'      : \"3/3\",\n",
      "    'date'      : \"19790101/19790201\",\n",
      "    'type'      : \"an\",\n",
      "    'class'     : \"ei\",\n",
      "    'target'    : \"test.grib\"\n",
      "})\n",
      "```"
     ]
    },
    {
     "cell_type": "markdown",
     "metadata": {},
     "source": [
      "For data retrieval the specific data request can be requested at the end of each data selection. Start your data selection [here](http://apps.ecmwf.int/datasets/)."
     ]
    }
   ],
   "metadata": {}
  }
 ]
}