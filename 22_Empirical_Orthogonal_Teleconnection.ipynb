{
 "metadata": {
  "name": "",
  "signature": "sha256:b908690f00279602cbff51db32bf085d4d52e98923aad56c2666264aa31430bc"
 },
 "nbformat": 3,
 "nbformat_minor": 0,
 "worksheets": [
  {
   "cells": [
    {
     "cell_type": "heading",
     "level": 2,
     "metadata": {},
     "source": [
      "Empirical Orthogonal Teleconnections (EOT)"
     ]
    },
    {
     "cell_type": "markdown",
     "metadata": {},
     "source": [
      "**Description:** The EOT analysis was introduced by [Van den Dool et al.](http://www.cpc.ncep.noaa.gov/products/people/wd51hd/vddoolpubs/vandendooletal_2000EOT.pdf) in 2001. EOT is a stepwise linear regression, where the predictands and predictors are discrete space-time (s,t) datasets T(s,t). At a first step, the point in space, that has the greatest variance to all other points in space combined, is identified. This point is called base point (sb) and the first spatial pattern is basically the regression coefficient between the base point and all other points. The explained portion of T(sb,t) is then removed from T(s,t) by standard regression. The next most important point in space is then searched based on the reduced dataset. The method can also be reversed, to have a base point in time rather than in space. The method is similar to teleconnection maps or EOFs, though feature certain advantages compared to common methods.\n",
      "\n",
      "**Statistical method:** Multivariate statistical method, stepwise linear regression\n",
      "\n",
      "**Methodological approach:** \n",
      "\n",
      "* **1. Find point in the space that explains most of the variance of all other points**  \n",
      "By brute force, based on a simple linear regression, the point (sb) that explains as much as possible of the variance of all other points. The first EOT is connected to sb. The space pattern of the first mode is the regression coefficient between the space-time dataset (T) at sb and T at all other points. The time series of the first EOT mode is the time series of the original data at point sb.  \n",
      "\n",
      "* **2. Split original space-time dataset into an \"explained\" and a \"reduced\" part**  \n",
      "Once the first EOT mode was identified, the original dataset is split into two parts: an explained and a reduced part. The explained part that is known because of the identification of the first EOT mode is subtracted from the original data set. The resulting reduced data set  is used to identify the second EOT mode. This procudure is repeated as many times as EOT modes were specified.  \n",
      "\n",
      "**Advantages:** \n",
      "\n",
      "* EOTs are orthonoal either in space or time\n",
      "\n",
      "* Often reveals less pronounced spatial patterns\n",
      "\n",
      "* Linkage of modes (spatial patterns) of another parameter (e.g. precipitation) to specific base points of a driver variable (e.g. SST)\n",
      "\n",
      "    * Here also lag times can be introduced\n",
      "\n",
      "**Disadvantages:**\n",
      "\n",
      "* The regression-based mode of EOT's is only linear, this means that only two variables can be analysed together \n",
      "\n",
      "***"
     ]
    },
    {
     "cell_type": "heading",
     "level": 3,
     "metadata": {},
     "source": [
      "Example - Empirical Orthogonal Teleconnection Analysis in R"
     ]
    },
    {
     "cell_type": "markdown",
     "metadata": {},
     "source": [
      "In R, there is the package **[remote](http://cran.r-project.org/web/packages/remote/remote.pdf)** to conduct an EOT analysis that is orthogonal in time.  \n",
      "\n",
      "**Data preparation**  \n",
      "\n",
      "* Space-time raster datasets do not have to restructured. All raster datasets of one parameter have to be together in one raster stack.\n",
      "\n",
      "\n",
      "**EOT-analysis**  \n",
      "There two ways an EOT-analysis can be setup: \n",
      "\n",
      "* it can either analysed spatial patterns of one single parameter. Then, the \"eot-function\" of the R package remote is used like this:\n",
      "\n",
      "``` \n",
      "library(remote)\n",
      "modes <- eot(x = dataStack, y = NULL, \n",
      "             n = 3, standardised = FALSE, \n",
      "             reduce.both = FALSE, print.console = TRUE)\n",
      "```\n",
      "\n",
      "\n",
      "\n",
      "* it can also used to identify the most prominent spatial patterns of one predictor variables and one response variable. The \"eot-function\" of the R package remote is then used like this:\n",
      "\n",
      "``` \n",
      "library(remote)\n",
      "modes <- eot(x = dataStackPred, y = dataStackResp, \n",
      "             n = 3, standardised = FALSE, \n",
      "             reduce.both = FALSE, print.console = TRUE)\n",
      "```  \n",
      "Both code calls differ in the way, that in the first case, instead of specifying a response variable (y), the function element y is set to NULL. In general, following elements have to be specified:  \n",
      "\n",
      "* **x:** predictor variable (e.g. in the format of a raster stack)  \n",
      "\n",
      "* **y:** response variable (either *NULL* or e.g. a raster stack)  \n",
      "\n",
      "* **n:** integer number indicating the amount of modes that shall be analysed  \n",
      "\n",
      "* **standardised:** logical value. If FALSE, the calculated r-squared values will be multiplied by the variance.  \n",
      "\n",
      "* **reduce.both:** logical. If TRUE both x and y are reduced after each iteration. If FALSE only y is reduced.  \n",
      "\n",
      "* **print.console:** logical. If TRUE information about the calculation process are printed to the console.  \n",
      "\n",
      "Depending on what specific patterns want to be identified, it might be useful to *denoise* the data in order to filter out some noise that is present in any spatio-temporal raster dataset. For example, for ENSO analysis, as it is a low-frequency signal, the filtering is highly recommende. The remote-package offers a function to denoise the data - basically a principal component filter is applied to the input data set:  \n",
      "```\n",
      "denoise(inputStack, expl.var=0.9)\n",
      "```\n",
      "\n",
      "<br>\n",
      "\n",
      "**EOT analysis output**  \n",
      "Following output parameters are of interest:  \n",
      "\n",
      "* **EOTObject@modes[[i]]:** This retrieves individual EOT modes from an EOT object  \n",
      "\n",
      "* **tempMode@rsq_predictor:** This extracts the predictor patterns of a specific EOT mode  \n",
      "\n",
      "* **tempMode@r_response:** The extracts the response pattern of a specific EOT mode (if applicable)  \n",
      "\n",
      "* **tempMode@eot:** This retrieves the time series at the base point of a specific mode  \n",
      "\n",
      "* **tempMode@cum_exp_var:** This retrieves the explained variance of the specific EOT mode  \n",
      "\n",
      "* **tempMode@coords_bp:** This retrieves the lat/lon coordinates of the identified EOT mode  \n",
      "\n",
      "<br>\n",
      "Following Figure shows the first two EOT modes that were identified by analysing global Sea Surface Temperature from 1990-2011. The first mode clearly identifies the ENSO signal. The second one shows the Atlantic multi-decadal oscillation (AMO). The ENSO signal is not surprising, as it is definately the dominant pattern of interannual variability of global sea surface temperature. The AMO is a pattern of exceptionally strong warming at the Labrador sea and off the coast of Brazil.\n",
      "\n",
      "<br>\n",
      "\n",
      "![](EOT_single_small.jpg \"1st and 2nd EOT modes of global SST temperature (based on the time series 1990-2011\")  \n",
      "\n",
      "<br>\n",
      "\n",
      "Low frequency signal of global oceans may influence global precipitation patterns. One of the most prominent low-frequency variability of SST is the ENSO signal. This analysis aimed at investigating the most important drivers of global SST for global precipitation patterns. It was further investigated if the ENSO signal can be extracted as a driver for global low-frequency precipitation variability. In the first case, if SST and precipitation anomalies are exposed without any time lag, the ENSO signal in the El Nino 3.4 region can be clearly extracted. ENSO as low frequency signal may cause precipitation shortages in Indonesia and northeast Brazil. On the other hand heavy rainfalls in East Africa, mainly Kenya, as well as in southern Brazil, Uruguay and Argentina will be expected. In general, the ENSO signal is responsible for **9% of global precipitation variability**. This does not sound a lot in the first case though it is to be kept in mind that precipitation is a highly variable climate parameter that is influenced by many different parameters. It is quite astonishing that solely the ENSO signal is responsible for **9 %** of its variation.\n",
      "\n",
      "<br>\n",
      "\n",
      "![](SST_Precip_lag0_small.jpg \"ENSO as the most important driver for global precipitation anomalies\")  \n",
      "\n",
      "<br>\n",
      "\n",
      "If a time lag of five month is introduced, the most obvious pattern that is responsible for at least 6% of global precipitation variability is shown in Fig. 3. At the first sight, again the ENSO pattern appears. However, analysing the appropriate time series it is striking that an anomaly of the signal appeared between 2010 and 2011. 2010/2011 is known as a very strong La Nina year. The extracted SST anomaly pattern strongly influencing global precipitation anomalies with a lag time of five month may be La Nina. Heavy rainfalls in south-east Asia, north-eastern Brazil and Colombia as well as eastern Australia result. Drier than normal periods are expected in equatorial Africa and in Uruguay, Peru and Argentina. \n",
      "\n",
      "<br>\n",
      "\n",
      "![](SST_Precip_lag5_small.jpg \"LaNina as the most important driver for global precipitation anomalies with a time lag of 5 month\")  \n",
      "\n",
      "<br>\n",
      "\n",
      "---"
     ]
    },
    {
     "cell_type": "heading",
     "level": 3,
     "metadata": {},
     "source": [
      "References"
     ]
    },
    {
     "cell_type": "markdown",
     "metadata": {},
     "source": [
      "Appelhans, T., Detsch, F. and T. Nauss (2014): R Package 'remote'. [[1]](http://cran.r-project.org/web/packages/remote/remote.pdf)\n",
      "\n",
      "Klingamann, N. (2012): Rainfall in Queensland. Part 3: Empirical Orthogonal Teleconnection analysis of inter-annual variability in Queensland rainfall. [[2]](https://www.longpaddock.qld.gov.au/about/publications/pdf/walker-report-part-3.pdf)  \n",
      "\n",
      "Van den Dool, H.M., Saha, S. and A. Johansson (2000): Empirical Orthogonal Teleconnections. Journal of Climate 13: 1422-1435. [[3]](http://www.cpc.ncep.noaa.gov/products/people/wd51hd/vddoolpubs/vandendooletal_2000EOT.pdf)  \n"
     ]
    }
   ],
   "metadata": {}
  }
 ]
}