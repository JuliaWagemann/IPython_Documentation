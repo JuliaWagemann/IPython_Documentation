{
 "metadata": {
  "name": "",
  "signature": "sha256:eb21bee81399ee86074623d532273bf540cfcbdffc6126a39753f2e723c0d22e"
 },
 "nbformat": 3,
 "nbformat_minor": 0,
 "worksheets": [
  {
   "cells": [
    {
     "cell_type": "heading",
     "level": 2,
     "metadata": {},
     "source": [
      "Integrate a Google Maps Widget into IPython"
     ]
    },
    {
     "cell_type": "markdown",
     "metadata": {},
     "source": [
      "Tyler Erickson provides at [Github](https://github.com/tylere/SciPy-2014) the source code for the Google Maps Widget that can be implemented to visualize Google Earth Engine outputs via IPython.\n",
      "It basically consists of two parts:<br/>\n",
      "* a javascript function <strong>GEE_widget</strong> that basically sets up the widget<br/>\n",
      "* a class <strong>Google_Maps_Widget</strong> that basically defines the widget as an object that can be called within the code<br/>\n",
      "\n",
      "I split up the two parts in two different .py files and created an IPython Notebook that loads both .py files (you can download it via [Github](https://github.com/JuliaWagemann/IPython-Notebooks)).<br/> \n",
      "The resulting IPython Notebook can then be easily called within every other IPython Notebook via:"
     ]
    },
    {
     "cell_type": "markdown",
     "metadata": {},
     "source": [
      "```\n",
      "%run integrateGoogleMaps.ipynb\n",
      "```"
     ]
    },
    {
     "cell_type": "markdown",
     "metadata": {},
     "source": [
      "In this way, a certain clarity of the source code is maintained.<br/>\n",
      "If the Notebook provided above is integrated into an IPython Notebook, following external libraries have to be loaded at the beginning of the code:"
     ]
    },
    {
     "cell_type": "markdown",
     "metadata": {},
     "source": [
      "```\n",
      "from IPython.html import widgets\n",
      "from IPython.display import display\n",
      "from IPython.utils import traitlets\n",
      "from IPython.core.display import Javascript\n",
      "```"
     ]
    },
    {
     "cell_type": "markdown",
     "metadata": {},
     "source": [
      "It is important to mention that all files have to be in the IPython Notebooks folder, otherwise the path of the files has to be provided when loaded."
     ]
    }
   ],
   "metadata": {}
  }
 ]
}