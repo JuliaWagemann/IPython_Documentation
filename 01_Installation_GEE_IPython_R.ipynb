{
 "metadata": {
  "name": "",
  "signature": "sha256:313dff436d1b365544cb03f822847d371ff1808f79b546a9195889ef6344c6f5"
 },
 "nbformat": 3,
 "nbformat_minor": 0,
 "worksheets": [
  {
   "cells": [
    {
     "cell_type": "heading",
     "level": 1,
     "metadata": {},
     "source": [
      "Installation of IPython, GEE Python API and R"
     ]
    },
    {
     "cell_type": "heading",
     "level": 3,
     "metadata": {},
     "source": [
      "IPython Notebook Setup"
     ]
    },
    {
     "cell_type": "markdown",
     "metadata": {},
     "source": [
      "####1. Installation of pip installer####\n",
      "<p>Install pip installer for Windows. pip simplifies the installation of additional python packages.</p>\n",
      "* <p><strong>Python version 3.4:</strong> the default python installation already includes the pip installer.<br/></p>\n",
      "* <p><strong>Python version below 3.4:</strong> pip installer needs to be installed as follows:<br/>\n",
      "Download [get-pip.py](https://bootstrap.pypa.io/get-pip.py) and run it in the command prompt with *python get-pip.py* (note: that you can call python via the command prompt, the path to your python installation has to be stored as environment variable in your operating system PATH. Further, the pathes to  *.../Python27/Scripts* and *.../Python27/Lib/site-packages* have to be added to the SYSTEM PATH. (Environmental variables can be added to the PATH via cmd prompt with *set PATH=%PATH%;.../Python27/...*)<br/></p>\n",
      "\n",
      "####2. Installation of IPython####\n",
      "Install IPython with *pip install ipython*. For IPython Notebook, you will additionally need the pyzmq, tornado and jinja2 libraries. All three libraries can be installed via *pip install library*.<br/>\n",
      "\n",
      "####3. Call IPython Notebook####\n",
      "IPython Notebook can be accessed via cmd prompt *ipython notebook*. IPython will point to your home directory. In order to create a new notebook, a new folder for IPython Notebooks needs to be set up.<br/>\n",
      "<br/>\n",
      "\n",
      "\n"
     ]
    },
    {
     "cell_type": "heading",
     "level": 3,
     "metadata": {},
     "source": [
      "Google Earth Engine (GEE) setup"
     ]
    },
    {
     "cell_type": "markdown",
     "metadata": {},
     "source": [
      "####1. Installation of GEE Python API####\n",
      "The GEE Python API can be installed via cmd prompt *pip install earthengine-api*. This downloads and install all necessary and required libraries for GEE to work properly.<br/>\n",
      "\n",
      "####2. Authentication of GEE Trusted Tester account####\n",
      "Before the GEE Engine Python API can be used, your user account needs authentication. Since Python API v0.1.38, authentication is possible with the personal Google User account.<br/> \n",
      "See more details about the authentication process using your personal Google User Account here: https://sites.google.com/site/earthengineapidocs/python-api\n",
      "\n",
      "####3. Load GEE in your IPython Notebook####\n",
      "Python API is loaded as an external library, with *import ee*.<br/>\n",
      "The Google Trusted Tester Service Account is authenticated with *ee.Initialize()*.<br/>\n",
      "<br/>\n"
     ]
    },
    {
     "cell_type": "heading",
     "level": 3,
     "metadata": {},
     "source": [
      "Setup to integrate R into (I)Python"
     ]
    },
    {
     "cell_type": "markdown",
     "metadata": {},
     "source": [
      "####1.Setup of required libraries####\n",
      "<p>[rpy2](http://rpy.sourceforge.net/) is a low-level interface which allows the exploitation of R within Python. On the website, they are proposing the installation with *pip install rpy2*. However, under Windows7(64bit), Python27 and R-3.1.1 (or higher), the installation and especially extraction of the binaries with pip install fails.<br/></p>\n",
      "<p>**Solution**: direct installation of the binaries that are provided [here](http://www.lfd.uci.edu/~gohlke/pythonlibs/). This website provides a series of precompiled python library binaries that can be installed directly.<br/>\n",
      "For R/Python interface, the binaries *rpy2*,*PyWin32* and *numpy* need to be installed. Download the binaries from this website and install them.</p> \n",
      "####2. Integrate R into Python####\n",
      "R can be integrated to (I)Python as follows:\n",
      "\n"
     ]
    },
    {
     "cell_type": "markdown",
     "metadata": {},
     "source": [
      "```\n",
      "from rpy2.robjects.packages import importr\n",
      "from rpy2.robjects import r\n",
      "import rpy2.robjects.numpy2ri as rpyn\n",
      "import numpy as np\n",
      "\n",
      "%reload_ext rpy2.ipython\n",
      "```"
     ]
    },
    {
     "cell_type": "markdown",
     "metadata": {},
     "source": [
      "####3. Use R within IPython####\n",
      "R can be used with a so called *magic command* (one of the really nice features of IPython).\n",
      "Magic commands are called with % in IPython. <br/>\n",
      "R magic command is used as follows:<br/>\n",
      "\n",
      "* %R  - the magic command is applied to a single line\n",
      "\n",
      "* %%R - the magic command is applied to the entire cell\n"
     ]
    },
    {
     "cell_type": "heading",
     "level": 3,
     "metadata": {},
     "source": [
      "Enjoy exploiting IPython, GEE and R! :-)"
     ]
    }
   ],
   "metadata": {}
  }
 ]
}