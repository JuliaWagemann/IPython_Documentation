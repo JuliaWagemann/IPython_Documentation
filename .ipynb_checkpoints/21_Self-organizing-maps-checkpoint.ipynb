{
 "metadata": {
  "name": "",
  "signature": "sha256:bea94b176c39b338ce176eceebe7027daf443aa5f5cf885ba186be1c804f46db"
 },
 "nbformat": 3,
 "nbformat_minor": 0,
 "worksheets": [
  {
   "cells": [
    {
     "cell_type": "heading",
     "level": 2,
     "metadata": {},
     "source": [
      "Self-organizing maps"
     ]
    },
    {
     "cell_type": "markdown",
     "metadata": {},
     "source": [
      "**Description:** Self-organizing maps (SOM) is a relatively new method in synoptic climatology. It is an unsupervised Neural Network methodology, which reduces large, multivariate datasets onto a 2-dimensional array. It is widely used as a data mining and visualization method for complex data sets. SOM applications becoming increasingly useful in geosciences, because it has been demonstrated to be an effective feature extraction techniques that has many advantages over conventional data analysis methods. It is a useful tool in meteorological applications of different spatial and temporal scales: synoptic climatology, extreme weather & rainfall pattern analysis, cloud classification, as well as climate change analysis.\n",
      "\n",
      "**Statistical method:** Unsupervised neural-network approach, based on competitve learning.\n",
      "\n",
      "**Methodological approach:**  \n",
      "it is based on machine learning: meaning, that the final SOM map evolves, or learns, from the input data.\n",
      "<br>\n",
      "\n",
      "* **1. Definition of a random distribution of nodes within the data space.**   \n",
      "The nodes are defined by a reference vector of weighting coefficients, where each coefficient is associated with a particular input variable. Each node has an associated reference vector equal in dimension to the input data.  \n",
      "<br>\n",
      "* **2. Presentation of each data record to randomaly initialized SOM.**  \n",
      "If the data record is presented to the SOM, the similarity between the data record and each node reference vector is calculated based on Euclidian distance.  \n",
      "<br>\n",
      "\n",
      "* **3. Identification of *Best-matching-unit (BMU)* **  \n",
      "*Best-matching-unit* or *winning node* is the node where the Euclidian distance between this node and the input data record is minimum. The BMU is then adjusted/modified by a user-defined learning rate. The difference of the BMU to the input data vector is reduced by this factor. The user-defined learning rate controls how fast the adjustment occurs. A small value  leads to a slow and smooth learning rate and a high value value to a fast but unstable learning process, respectively.  \n",
      "<br>\n",
      "* **4. Updating of neighbouring nodes**  \n",
      "After the BMU has been adjusted by the learning rate, the neighbouring units of the BMU are also updated to getting closer to the input data vector. The number of neighbouring units is specified by the radius of the training area. The amount of adjustment varies in inverse proportion to the distance of the BMU and in proportion to the learning rate parameter. This means that each input data record contributes to the characterisation of more than one node. With each iteration, the neighbourhood radius decreases and thus, the number of neighbouring nodes updated decreases. At the last iteration, solely the BMU is updated.  \n",
      "<br>\n",
      "* **5. Final SOM map**  \n",
      "Due to the update process, the nodes of the final SOM product are ordered. It means that nodes close together represent similar patterns.  \n",
      "<br>\n",
      "\n",
      "![](SOM_methodology_small.jpg \"SOM - Methodological approach\")\n",
      "\n",
      "<br>\n",
      "\n",
      "**Advantage:**  \n",
      "\n",
      "* Multiple variables can be handled simultanously.  \n",
      "\n",
      "* Techniques preserves the topology of the raster field. \n",
      "\n",
      "* Is able to identify more complex and less prominent patterns.  \n",
      "\n",
      "<br>\n",
      "\n",
      "\n",
      "**Disadvantage:**  \n",
      "\n",
      "* Values of SOM specific parameters (e.g. learning rate, training area radius, ...) have to be decided in beforehand  \n",
      "\n",
      "\n",
      "---"
     ]
    },
    {
     "cell_type": "heading",
     "level": 3,
     "metadata": {},
     "source": [
      "Example - SOM in R:"
     ]
    },
    {
     "cell_type": "markdown",
     "metadata": {},
     "source": [
      "The R package [*kohonen*](http://cran.r-project.org/web/packages/kohonen/kohonen.pdf) can be used to do a SOM analysis in R.  \n",
      "\n",
      "**Data preparation:**\n",
      "* Spatial datasets (NxC) have to be restructured in order to be valid as input dataset for a SOM analysis. A valid input dataset for SOM analysis is a data matrix (TxP), with the number of pixels as columns (P) and the number of data records (e.g. monthly data record) as rows (T).\n",
      "\n",
      "**SOM analysis:**  \n",
      "The SOM analysis in R is called with either ** *som* ** or ** *supersom* **:"
     ]
    },
    {
     "cell_type": "markdown",
     "metadata": {},
     "source": [
      "```\n",
      "# load necessary libraries\n",
      "library(kohonen)\n",
      "\n",
      "# apply \"som-function\"\n",
      "    somTest <-  som(data=testData,grid=somgrid(nrOfRows,nrOfCols,\"topology\"),rlen=trainingRate, alpha=c(0.05,0.01),\n",
      "                radius=neighbourhoodRadius, toroidal=FALSE, n.hood='circular',keep.data=TRUE)\n",
      "```\n"
     ]
    },
    {
     "cell_type": "markdown",
     "metadata": {},
     "source": [
      "Following parameters have to be carefully identified in beforehand:\n",
      "\n",
      "* **rlen:** number of times the complete dataset is presented to the initialized SOM network\n",
      "\n",
      "* **alpha:** learning rate vector of two numbers indicating the amount of change per iteration \n",
      "\n",
      "* **radius:** radius how far neighbouring units are influenced by the update process of the BMU  \n",
      "\n",
      "* **toroidal:** if TRUE, edges of the neighbourhood map are joined  \n",
      "\n",
      "* **n.hood:** shape of the neighbourhood - either *\"square\"* or *\"circular\"*  \n",
      "\n",
      "* **size of somgrid:** how many nodes shall be set up - the * **topology** * of the somgrid has to be specified (either *\"rectangular\"* or *\"hexagonal\"*)  \n",
      "\n"
     ]
    },
    {
     "cell_type": "markdown",
     "metadata": {},
     "source": [
      "**SOM analysis output:** \n",
      "\n",
      "* **Codebook vectors**   \n",
      "The most important element of the resulting SOM-object are the **codebook vectors**. Basically, for each initialized somgrid node, one codebook vector is produced. Codebook vectors are stored in rows and feature the amount of pixels as columns.  \n",
      "The spatial representation of identifiied patterns by the SOM analysis can be produced by rearranging each codebook vector to the initial structure of the input matrix (nr of rows and nr of columns).  \n",
      "\n",
      "* **Frequencies of each SOM node**  \n",
      "The element *sunit.classif* holds information about how often this specific pattern (som grid node) was examined in the entire input data set.  \n",
      "\n",
      "* **Training process line**  \n",
      "The training process can be evaluated with the help of the element *changes*. The more gradual the curve the better.  \n",
      "\n",
      "<br>\n",
      "\n",
      "This image shows an example of a SOM analysis. A 3x4 SOM-grid was initialized and monthly global air temperature data (ERA-interim reanalysis data) were presented to the SOM-grid up to 500 times.\n",
      "![Example SOM output](Example_SOM_small.jpg \"Example SOM output\")\n",
      "\n",
      "<br>\n",
      "\n",
      "---"
     ]
    },
    {
     "cell_type": "heading",
     "level": 3,
     "metadata": {},
     "source": [
      "References:"
     ]
    },
    {
     "cell_type": "markdown",
     "metadata": {},
     "source": [
      "Hewitson, B.C. and R.G. Crane (2002): Self-organizing maps: applications to synoptic climatology. Climate Research 22/1: 13-26. [1](http://scholar.google.it/scholar_url?hl=en&q=http://www.researchgate.net/publication/235753687_Self-Organizing_Maps_Applications_to_synoptic_climatology/file/6a85e52dfaaf814733.pdf&sa=X&scisig=AAGBfm2pDvMKtUy6N2WC_lIYfQ8JfswAAA&oi=scholarr&ei=4_DDU47iFui_ygPByoGwCw&ved=0CB8QgAMoADAA)  \n",
      "\n",
      "Liu, Y and R.H. Weisberg (2011): A Review of Self-Organizing Map Applications in Meteorology and Oceanography. In: Mwasiagi, J.I. (Eds.): Self Organizing Maps \u2013 Applications and Novel Algorithm Design. InTech. Croatia. [2](http://cdn.intechopen.com/pdfs/13302/InTech-A_review_of_self_organizing_map_applications_in_meteorology_and_oceanography.pdf)\n",
      "\n",
      "Richardson, A.J., Risien, C. and F.A. Shillington (2003): Using self-organizing maps to identify patterns in satellite imagery. Progress in Oceanography 59: 223-239. [3](http://www.sciencedirect.com/science/article/pii/S007966110300171X)\n",
      "\n",
      "Rousi, E., Anagnostopoullou, C., Tolika, K. and P. Maheras (2013): Representing teleconnection patterns over Europe: A comparison of SOM and PCA methods. Atmospheric Research xxx: xxx-xxx. [4](http://www.sciencedirect.com/science/article/pii/S0169809513003311)\n"
     ]
    }
   ],
   "metadata": {}
  }
 ]
}